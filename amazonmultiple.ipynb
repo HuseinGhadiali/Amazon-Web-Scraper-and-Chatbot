{
 "cells": [
  {
   "cell_type": "code",
   "execution_count": 4,
   "metadata": {},
   "outputs": [],
   "source": [
    "import csv\n",
    "from bs4 import BeautifulSoup\n",
    "from selenium import webdriver"
   ]
  },
  {
   "cell_type": "markdown",
   "metadata": {},
   "source": [
    "## Startup the webdrive"
   ]
  },
  {
   "cell_type": "code",
   "execution_count": 5,
   "metadata": {},
   "outputs": [],
   "source": [
    "driver = webdriver.Chrome()"
   ]
  },
  {
   "cell_type": "code",
   "execution_count": 6,
   "metadata": {},
   "outputs": [],
   "source": [
    "url = 'https://www.amazon.com/'\n",
    "driver.get(url)"
   ]
  },
  {
   "cell_type": "code",
   "execution_count": 7,
   "metadata": {},
   "outputs": [],
   "source": [
    "def get_url(search_term):\n",
    "    template = 'https://www.amazon.com/s?k={}&crid=1YOA34FVDWY3Y'\n",
    "    search_term = search_term.replace(' ', '+')\n",
    "    return template.format(search_term)"
   ]
  },
  {
   "cell_type": "code",
   "execution_count": 15,
   "metadata": {},
   "outputs": [
    {
     "name": "stdout",
     "output_type": "stream",
     "text": [
      "https://www.amazon.com/s?k=ultrawide+monitor&crid=1YOA34FVDWY3Y\n"
     ]
    }
   ],
   "source": [
    "url = get_url('ultrawide monitor')\n",
    "print(url)"
   ]
  },
  {
   "cell_type": "markdown",
   "metadata": {},
   "source": [
    "## Extract the collection"
   ]
  },
  {
   "cell_type": "code",
   "execution_count": 18,
   "metadata": {},
   "outputs": [],
   "source": [
    "soup = BeautifulSoup(driver.page_source, 'html.parser')"
   ]
  },
  {
   "cell_type": "code",
   "execution_count": 19,
   "metadata": {},
   "outputs": [
    {
     "data": {
      "text/plain": [
       "22"
      ]
     },
     "execution_count": 19,
     "metadata": {},
     "output_type": "execute_result"
    }
   ],
   "source": [
    "results = soup.find_all('div', {'data-component-type': 's-search-result'})\n",
    "len(results)"
   ]
  },
  {
   "cell_type": "markdown",
   "metadata": {},
   "source": [
    "## Prototype the record"
   ]
  },
  {
   "cell_type": "code",
   "execution_count": 20,
   "metadata": {},
   "outputs": [],
   "source": [
    "item = results[0]\n"
   ]
  },
  {
   "cell_type": "code",
   "execution_count": 21,
   "metadata": {},
   "outputs": [],
   "source": [
    "atag = item.h2.a"
   ]
  },
  {
   "cell_type": "code",
   "execution_count": 22,
   "metadata": {},
   "outputs": [],
   "source": [
    "description = atag.text.strip()"
   ]
  },
  {
   "cell_type": "code",
   "execution_count": 23,
   "metadata": {},
   "outputs": [],
   "source": [
    "url = 'https://www.amazon.com/'+atag.get('href')"
   ]
  },
  {
   "cell_type": "code",
   "execution_count": 24,
   "metadata": {},
   "outputs": [],
   "source": [
    "price_parent = item.find('span', 'a-price')"
   ]
  },
  {
   "cell_type": "code",
   "execution_count": 25,
   "metadata": {},
   "outputs": [],
   "source": [
    "price = price_parent.find('span', 'a-offscreen').text"
   ]
  },
  {
   "cell_type": "code",
   "execution_count": 26,
   "metadata": {},
   "outputs": [],
   "source": [
    "rating = item.i.text"
   ]
  },
  {
   "cell_type": "code",
   "execution_count": 27,
   "metadata": {},
   "outputs": [],
   "source": [
    "review_count = item.find('span', {'class': 'a-size-base'}).text"
   ]
  },
  {
   "cell_type": "markdown",
   "metadata": {},
   "source": [
    "## Generalize the pattern"
   ]
  },
  {
   "cell_type": "code",
   "execution_count": 28,
   "metadata": {},
   "outputs": [],
   "source": [
    "def extract_record(item):\n",
    "    \"\"\"Extract and return data from a single record\"\"\"\n",
    "\n",
    "    # description and url\n",
    "    atag = item.h2.a\n",
    "    description = atag.text.strip()\n",
    "    url = 'https://www.amazon.com' + atag.get('href')\n",
    "\n",
    "    try:\n",
    "        # price\n",
    "        price_parent = item.find('span', 'a-price')\n",
    "        price = price_parent.find('span', 'a-offscreen').text\n",
    "    except AttributeError:\n",
    "        return\n",
    "\n",
    "    try:\n",
    "        # rank and rating\n",
    "        rating = item.i.text\n",
    "        review_count = item.find('span', {'class': 'a-size-base'}).text\n",
    "    except AttributeError:\n",
    "        rating = ''\n",
    "        review_count = ''\n",
    "\n",
    "    result = (description, price, rating, review_count, url)\n",
    "\n",
    "    return result"
   ]
  },
  {
   "cell_type": "code",
   "execution_count": 29,
   "metadata": {},
   "outputs": [],
   "source": [
    "records = []\n",
    "results = soup.find_all('div', {'data-component-type': 's-search-result'})\n",
    "\n",
    "for item in results:\n",
    "    record = extract_record(item)\n",
    "    if record:\n",
    "        records.append(record)"
   ]
  },
  {
   "cell_type": "code",
   "execution_count": 30,
   "metadata": {},
   "outputs": [
    {
     "data": {
      "text/plain": [
       "('INNOCN 40C1R Ultrawide Monitor 40\" WQHD 3440 x 1440p 144Hz Monitor AMD FreeSync Premium HDR400 21:9 Computer Monitor 95% DCI-P3 500Nits IPS USB Type-C HDMI Tilt/Height Adjustable Monitor, Mountable',\n",
       " '$399.99',\n",
       " '4.3 out of 5 stars',\n",
       " '4.3',\n",
       " 'https://www.amazon.com/sspa/click?ie=UTF8&spc=MTo3NzY1NzMxODkzMjE0NTkzOjE2OTIzMTIzODI6c3BfYXRmOjIwMDA1NDYyMjEyMTA5ODo6MDo6&url=%2FINNOCN-Ultrawide-Monitor-FreeSync-Premium%2Fdp%2FB09N3G9T16%2Fref%3Dsr_1_1_sspa%3Fcrid%3DTI8IOVYFNE3P%26keywords%3Dultrawide%2Bmonitor%26qid%3D1692312382%26sprefix%3Dultrawide%2Bmonitor%252Caps%252C84%26sr%3D8-1-spons%26sp_csd%3Dd2lkZ2V0TmFtZT1zcF9hdGY%26psc%3D1')"
      ]
     },
     "execution_count": 30,
     "metadata": {},
     "output_type": "execute_result"
    }
   ],
   "source": [
    "records[0]"
   ]
  },
  {
   "cell_type": "code",
   "execution_count": 31,
   "metadata": {},
   "outputs": [
    {
     "name": "stdout",
     "output_type": "stream",
     "text": [
      "$399.99\n",
      "$340.99\n",
      "$184.01\n",
      "$349.00\n",
      "$219.99\n",
      "$847.62\n",
      "$149.99\n",
      "$219.97\n",
      "$999.99\n",
      "$392.00\n",
      "$369.99\n",
      "$499.99\n",
      "$299.97\n",
      "$189.23\n",
      "$1,496.99\n",
      "$319.99\n",
      "$129.99\n",
      "$1,154.99\n",
      "$486.24\n",
      "$199.00\n",
      "$399.99\n",
      "$299.97\n"
     ]
    }
   ],
   "source": [
    "for row in records:\n",
    "    print(row[1])"
   ]
  },
  {
   "cell_type": "markdown",
   "metadata": {},
   "source": [
    "## Getting the next page"
   ]
  },
  {
   "cell_type": "code",
   "execution_count": 32,
   "metadata": {},
   "outputs": [],
   "source": [
    "def get_url(search_term):\n",
    "    template = 'https://www.amazon.com/s?k={}&crid=1YOA34FVDWY3Y'\n",
    "    search_term = search_term.replace(' ', '+')\n",
    "    \n",
    "    # add term query to url\n",
    "    url = template.format(search_term)\n",
    "\n",
    "    # add page query placeholder\n",
    "    url += '&page={}'\n",
    "\n",
    "    return url"
   ]
  },
  {
   "cell_type": "markdown",
   "metadata": {},
   "source": [
    "## Putting it all together"
   ]
  },
  {
   "cell_type": "code",
   "execution_count": 4,
   "metadata": {},
   "outputs": [],
   "source": [
    "import csv\n",
    "from bs4 import BeautifulSoup\n",
    "from selenium import webdriver\n",
    "\n",
    "def get_url(search_term):\n",
    "    template = 'https://www.amazon.com/s?k={}&crid=1YOA34FVDWY3Y'\n",
    "    search_term = search_term.replace(' ', '+')\n",
    "    url = template.format(search_term)\n",
    "    url += '&page={}'\n",
    "    return url\n",
    "\n",
    "def extract_record(item):\n",
    "    \"\"\"Extract and return data from a single record\"\"\"\n",
    "    try:\n",
    "        atag = item.h2.a\n",
    "        description = atag.text.strip()\n",
    "        url = 'https://www.amazon.com' + atag.get('href')\n",
    "\n",
    "        price_parent = item.find('span', 'a-price')\n",
    "        price = price_parent.find('span', 'a-offscreen').text\n",
    "\n",
    "        rating = item.i.text\n",
    "        review_count = item.find('span', {'class': 'a-size-base'}).text\n",
    "    except AttributeError as e:\n",
    "        print(\"Error while extracting record:\", e)\n",
    "        return\n",
    "\n",
    "    result = (description, price, rating, review_count, url)\n",
    "    return result\n",
    "\n",
    "def main(search_term):\n",
    "    \"\"\"Run main program routine\"\"\"\n",
    "    try:\n",
    "        driver = webdriver.Chrome()\n",
    "        records = []\n",
    "        url = get_url(search_term)\n",
    "\n",
    "        for page in range(1, 21):\n",
    "            print(f\"Fetching page {page} ...\")\n",
    "            driver.get(url.format(page))\n",
    "            soup = BeautifulSoup(driver.page_source, 'html.parser')\n",
    "            results = soup.find_all('div', {'data-component-type': 's-search-result'})\n",
    "\n",
    "            for item in results:\n",
    "                record = extract_record(item)\n",
    "                if record:\n",
    "                    records.append(record)\n",
    "\n",
    "        driver.close()\n",
    "\n",
    "        # Save the data to csv file\n",
    "        with open('amazon_creatine_081723.csv', 'w', newline='', encoding='utf-8') as f:\n",
    "            writer = csv.writer(f)\n",
    "            writer.writerow(['Description', 'Price', 'Rating', 'ReviewCount', 'Url'])\n",
    "            writer.writerows(records)\n",
    "        print(\"Data saved successfully.\")\n",
    "    except Exception as e:\n",
    "        print(f\"An error occurred: {e}\")"
   ]
  },
  {
   "cell_type": "code",
   "execution_count": 5,
   "metadata": {},
   "outputs": [
    {
     "name": "stdout",
     "output_type": "stream",
     "text": [
      "Fetching page 1 ...\n",
      "Fetching page 2 ...\n",
      "Fetching page 3 ...\n",
      "Fetching page 4 ...\n",
      "Fetching page 5 ...\n",
      "Error while extracting record: 'NoneType' object has no attribute 'text'\n",
      "Error while extracting record: 'NoneType' object has no attribute 'text'\n",
      "Error while extracting record: 'NoneType' object has no attribute 'text'\n",
      "Error while extracting record: 'NoneType' object has no attribute 'text'\n",
      "Fetching page 6 ...\n",
      "Error while extracting record: 'NoneType' object has no attribute 'text'\n",
      "Error while extracting record: 'NoneType' object has no attribute 'text'\n",
      "Fetching page 7 ...\n",
      "Error while extracting record: 'NoneType' object has no attribute 'text'\n",
      "Fetching page 8 ...\n",
      "Fetching page 9 ...\n",
      "Fetching page 10 ...\n",
      "Fetching page 11 ...\n",
      "Fetching page 12 ...\n",
      "Fetching page 13 ...\n",
      "Error while extracting record: 'NoneType' object has no attribute 'text'\n",
      "Fetching page 14 ...\n",
      "Fetching page 15 ...\n",
      "Fetching page 16 ...\n",
      "Fetching page 17 ...\n",
      "Error while extracting record: 'NoneType' object has no attribute 'text'\n",
      "Fetching page 18 ...\n",
      "Fetching page 19 ...\n",
      "Fetching page 20 ...\n",
      "Data saved successfully.\n"
     ]
    }
   ],
   "source": [
    "main(\"creatine\")"
   ]
  }
 ],
 "metadata": {
  "kernelspec": {
   "display_name": ".venv",
   "language": "python",
   "name": "python3"
  },
  "language_info": {
   "codemirror_mode": {
    "name": "ipython",
    "version": 3
   },
   "file_extension": ".py",
   "mimetype": "text/x-python",
   "name": "python",
   "nbconvert_exporter": "python",
   "pygments_lexer": "ipython3",
   "version": "3.11.4"
  },
  "orig_nbformat": 4
 },
 "nbformat": 4,
 "nbformat_minor": 2
}
