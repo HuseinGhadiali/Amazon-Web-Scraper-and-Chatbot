{
 "cells": [
  {
   "cell_type": "markdown",
   "metadata": {},
   "source": [
    "# Importing Libraries"
   ]
  },
  {
   "cell_type": "code",
   "execution_count": 1,
   "metadata": {},
   "outputs": [],
   "source": [
    "from selenium import webdriver\n",
    "from bs4 import BeautifulSoup\n",
    "import csv"
   ]
  },
  {
   "cell_type": "code",
   "execution_count": 2,
   "metadata": {},
   "outputs": [],
   "source": [
    "def get_url(search_term):\n",
    "    template = 'https://www.amazon.com/s?k={}&crid=1YOA34FVDWY3Y'\n",
    "    search_term = search_term.replace(' ', '+')\n",
    "    url = template.format(search_term)\n",
    "    url += '&page={}'\n",
    "    return url\n",
    "\n",
    "def extract_record(item):\n",
    "    try:\n",
    "        atag = item.h2.a\n",
    "        description = atag.text.strip()\n",
    "        url = 'https://www.amazon.com' + atag.get('href')\n",
    "        price_parent = item.find('span', 'a-price')\n",
    "        price = price_parent.find('span', 'a-offscreen').text\n",
    "        rating = item.i.text\n",
    "        review_count = item.find('span', {'class': 'a-size-base'}).text\n",
    "    except AttributeError as e:\n",
    "        print(\"Error while extracting record:\", e)\n",
    "        return\n",
    "\n",
    "    return (description, price, rating, review_count, url)\n",
    "\n",
    "def fetch_data_from_amazon(driver, url):\n",
    "    records = []\n",
    "    for page in range(1, 21):\n",
    "        print(f\"Fetching page {page} ...\")\n",
    "        driver.get(url.format(page))\n",
    "        soup = BeautifulSoup(driver.page_source, 'html.parser')\n",
    "        results = soup.find_all('div', {'data-component-type': 's-search-result'})\n",
    "\n",
    "        for item in results:\n",
    "            record = extract_record(item)\n",
    "            if record:\n",
    "                records.append(record)\n",
    "    return records\n",
    "\n",
    "def save_to_csv(records, filename):\n",
    "    with open(filename, 'w', newline='', encoding='utf-8') as f:\n",
    "        writer = csv.writer(f)\n",
    "        writer.writerow(['Description', 'Price', 'Rating', 'ReviewCount', 'Url'])\n",
    "        writer.writerows(records)\n",
    "    print(f\"Data saved successfully to {filename}.\")\n",
    "\n",
    "def main():\n",
    "    search_term = input(\"Enter the product you want to search for: \")\n",
    "    filename = input(\"Enter the name for the CSV file (e.g., output.csv): \")\n",
    "\n",
    "    try:\n",
    "        url = get_url(search_term)\n",
    "        with webdriver.Chrome() as driver:\n",
    "            records = fetch_data_from_amazon(driver, url)\n",
    "        save_to_csv(records, filename)\n",
    "\n",
    "    except Exception as e:\n",
    "        print(f\"An error occurred: {e}\")"
   ]
  },
  {
   "cell_type": "code",
   "execution_count": 4,
   "metadata": {},
   "outputs": [
    {
     "name": "stdout",
     "output_type": "stream",
     "text": [
      "Fetching page 1 ...\n",
      "Fetching page 2 ...\n",
      "Fetching page 3 ...\n",
      "Fetching page 4 ...\n",
      "Error while extracting record: 'NoneType' object has no attribute 'find'\n",
      "Fetching page 5 ...\n",
      "Fetching page 6 ...\n",
      "Fetching page 7 ...\n",
      "Fetching page 8 ...\n",
      "Fetching page 9 ...\n",
      "Fetching page 10 ...\n",
      "Fetching page 11 ...\n",
      "Fetching page 12 ...\n",
      "Fetching page 13 ...\n",
      "Fetching page 14 ...\n",
      "Fetching page 15 ...\n",
      "Fetching page 16 ...\n",
      "Fetching page 17 ...\n",
      "Fetching page 18 ...\n",
      "Fetching page 19 ...\n",
      "Fetching page 20 ...\n",
      "Data saved successfully to amazon_protein_081823.csv.\n"
     ]
    }
   ],
   "source": [
    "if __name__ == \"__main__\":\n",
    "    main()"
   ]
  }
 ],
 "metadata": {
  "kernelspec": {
   "display_name": ".venv",
   "language": "python",
   "name": "python3"
  },
  "language_info": {
   "codemirror_mode": {
    "name": "ipython",
    "version": 3
   },
   "file_extension": ".py",
   "mimetype": "text/x-python",
   "name": "python",
   "nbconvert_exporter": "python",
   "pygments_lexer": "ipython3",
   "version": "3.11.4"
  },
  "orig_nbformat": 4
 },
 "nbformat": 4,
 "nbformat_minor": 2
}
